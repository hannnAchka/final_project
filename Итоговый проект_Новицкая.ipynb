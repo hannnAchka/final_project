{
 "cells": [
  {
   "cell_type": "markdown",
   "id": "3a9cc7be",
   "metadata": {},
   "source": [
    "# В данном проекте я буду анализировать данные API о подписчиках и постах из группы Вконтакте \"Фон\""
   ]
  },
  {
   "cell_type": "code",
   "execution_count": 2,
   "id": "c2132e60",
   "metadata": {},
   "outputs": [],
   "source": [
    "import pandas as pd\n",
    "import matplotlib.pyplot as plt\n",
    "posts=pd.read_csv('data_posts_fon.csv')\n",
    "subscribers=pd.read_csv('data_subsrcibers_fon.csv')"
   ]
  },
  {
   "cell_type": "code",
   "execution_count": 3,
   "id": "b36b92f8",
   "metadata": {},
   "outputs": [
    {
     "data": {
      "text/html": [
       "<div>\n",
       "<style scoped>\n",
       "    .dataframe tbody tr th:only-of-type {\n",
       "        vertical-align: middle;\n",
       "    }\n",
       "\n",
       "    .dataframe tbody tr th {\n",
       "        vertical-align: top;\n",
       "    }\n",
       "\n",
       "    .dataframe thead th {\n",
       "        text-align: right;\n",
       "    }\n",
       "</style>\n",
       "<table border=\"1\" class=\"dataframe\">\n",
       "  <thead>\n",
       "    <tr style=\"text-align: right;\">\n",
       "      <th></th>\n",
       "      <th>Unnamed: 0</th>\n",
       "      <th>id</th>\n",
       "      <th>text</th>\n",
       "      <th>comments.count</th>\n",
       "      <th>likes.count</th>\n",
       "      <th>views.count</th>\n",
       "      <th>reposts.count</th>\n",
       "    </tr>\n",
       "  </thead>\n",
       "  <tbody>\n",
       "    <tr>\n",
       "      <th>0</th>\n",
       "      <td>0</td>\n",
       "      <td>957005</td>\n",
       "      <td>«Я не играю, а вдохновляюсь»: читайте пост, чт...</td>\n",
       "      <td>0</td>\n",
       "      <td>3</td>\n",
       "      <td>2014.0</td>\n",
       "      <td>0</td>\n",
       "    </tr>\n",
       "    <tr>\n",
       "      <th>1</th>\n",
       "      <td>1</td>\n",
       "      <td>957003</td>\n",
       "      <td>NaN</td>\n",
       "      <td>0</td>\n",
       "      <td>6</td>\n",
       "      <td>4063.0</td>\n",
       "      <td>3</td>\n",
       "    </tr>\n",
       "    <tr>\n",
       "      <th>2</th>\n",
       "      <td>2</td>\n",
       "      <td>956991</td>\n",
       "      <td>К Пушкину и Лермонтову присоединятся GTA и «На...</td>\n",
       "      <td>0</td>\n",
       "      <td>30</td>\n",
       "      <td>9439.0</td>\n",
       "      <td>8</td>\n",
       "    </tr>\n",
       "    <tr>\n",
       "      <th>3</th>\n",
       "      <td>3</td>\n",
       "      <td>956969</td>\n",
       "      <td>NaN</td>\n",
       "      <td>0</td>\n",
       "      <td>8</td>\n",
       "      <td>4491.0</td>\n",
       "      <td>0</td>\n",
       "    </tr>\n",
       "    <tr>\n",
       "      <th>4</th>\n",
       "      <td>4</td>\n",
       "      <td>956958</td>\n",
       "      <td>Сейчас бы в школу и поиграть тайком на уроке в...</td>\n",
       "      <td>3</td>\n",
       "      <td>58</td>\n",
       "      <td>12094.0</td>\n",
       "      <td>5</td>\n",
       "    </tr>\n",
       "  </tbody>\n",
       "</table>\n",
       "</div>"
      ],
      "text/plain": [
       "   Unnamed: 0      id                                               text  \\\n",
       "0           0  957005  «Я не играю, а вдохновляюсь»: читайте пост, чт...   \n",
       "1           1  957003                                                NaN   \n",
       "2           2  956991  К Пушкину и Лермонтову присоединятся GTA и «На...   \n",
       "3           3  956969                                                NaN   \n",
       "4           4  956958  Сейчас бы в школу и поиграть тайком на уроке в...   \n",
       "\n",
       "   comments.count  likes.count  views.count  reposts.count  \n",
       "0               0            3       2014.0              0  \n",
       "1               0            6       4063.0              3  \n",
       "2               0           30       9439.0              8  \n",
       "3               0            8       4491.0              0  \n",
       "4               3           58      12094.0              5  "
      ]
     },
     "execution_count": 3,
     "metadata": {},
     "output_type": "execute_result"
    }
   ],
   "source": [
    "posts.head()"
   ]
  },
  {
   "cell_type": "markdown",
   "id": "a94a8273",
   "metadata": {},
   "source": [
    "Начну с анализа постов в группе. Стоит отметить, что отсутствие текста в посте означает, что это вертикальное видео, которое выложили в ленту группы"
   ]
  },
  {
   "cell_type": "code",
   "execution_count": 4,
   "id": "b51157e8",
   "metadata": {},
   "outputs": [
    {
     "data": {
      "text/plain": [
       "1258476.0"
      ]
     },
     "execution_count": 4,
     "metadata": {},
     "output_type": "execute_result"
    }
   ],
   "source": [
    "posts['views.count'].max()"
   ]
  },
  {
   "cell_type": "code",
   "execution_count": 5,
   "id": "96482e00",
   "metadata": {},
   "outputs": [
    {
     "data": {
      "text/html": [
       "<div>\n",
       "<style scoped>\n",
       "    .dataframe tbody tr th:only-of-type {\n",
       "        vertical-align: middle;\n",
       "    }\n",
       "\n",
       "    .dataframe tbody tr th {\n",
       "        vertical-align: top;\n",
       "    }\n",
       "\n",
       "    .dataframe thead th {\n",
       "        text-align: right;\n",
       "    }\n",
       "</style>\n",
       "<table border=\"1\" class=\"dataframe\">\n",
       "  <thead>\n",
       "    <tr style=\"text-align: right;\">\n",
       "      <th></th>\n",
       "      <th>Unnamed: 0</th>\n",
       "      <th>id</th>\n",
       "      <th>text</th>\n",
       "      <th>comments.count</th>\n",
       "      <th>likes.count</th>\n",
       "      <th>views.count</th>\n",
       "      <th>reposts.count</th>\n",
       "    </tr>\n",
       "  </thead>\n",
       "  <tbody>\n",
       "    <tr>\n",
       "      <th>200</th>\n",
       "      <td>200</td>\n",
       "      <td>955644</td>\n",
       "      <td>NaN</td>\n",
       "      <td>5</td>\n",
       "      <td>783</td>\n",
       "      <td>1258476.0</td>\n",
       "      <td>126</td>\n",
       "    </tr>\n",
       "  </tbody>\n",
       "</table>\n",
       "</div>"
      ],
      "text/plain": [
       "     Unnamed: 0      id text  comments.count  likes.count  views.count  \\\n",
       "200         200  955644  NaN               5          783    1258476.0   \n",
       "\n",
       "     reposts.count  \n",
       "200            126  "
      ]
     },
     "execution_count": 5,
     "metadata": {},
     "output_type": "execute_result"
    }
   ],
   "source": [
    "posts[posts['views.count']== 1258476.0]"
   ]
  },
  {
   "cell_type": "markdown",
   "id": "0779933e",
   "metadata": {},
   "source": [
    "Больше всего просмотров в ленте набрал вертикальный ролик. Его можно найти по ссылке: https://vk.com/wall-60777940_955644"
   ]
  },
  {
   "cell_type": "code",
   "execution_count": 24,
   "id": "4a9f05f8",
   "metadata": {},
   "outputs": [],
   "source": [
    "posts['reaction']=posts['likes.count']+posts['views.count']+posts['reposts.count']"
   ]
  },
  {
   "cell_type": "markdown",
   "id": "93855371",
   "metadata": {},
   "source": [
    "Я создала столбец 'reaction', который суммирует всю активность подписчиков, связанную с постом. Это позволит понят, какой пост вызвал большую реакцию аудитории."
   ]
  },
  {
   "cell_type": "code",
   "execution_count": 10,
   "id": "032aab1f",
   "metadata": {},
   "outputs": [
    {
     "data": {
      "text/html": [
       "<div>\n",
       "<style scoped>\n",
       "    .dataframe tbody tr th:only-of-type {\n",
       "        vertical-align: middle;\n",
       "    }\n",
       "\n",
       "    .dataframe tbody tr th {\n",
       "        vertical-align: top;\n",
       "    }\n",
       "\n",
       "    .dataframe thead th {\n",
       "        text-align: right;\n",
       "    }\n",
       "</style>\n",
       "<table border=\"1\" class=\"dataframe\">\n",
       "  <thead>\n",
       "    <tr style=\"text-align: right;\">\n",
       "      <th></th>\n",
       "      <th>Unnamed: 0</th>\n",
       "      <th>id</th>\n",
       "      <th>text</th>\n",
       "      <th>comments.count</th>\n",
       "      <th>likes.count</th>\n",
       "      <th>views.count</th>\n",
       "      <th>reposts.count</th>\n",
       "      <th>reaction</th>\n",
       "    </tr>\n",
       "  </thead>\n",
       "  <tbody>\n",
       "    <tr>\n",
       "      <th>200</th>\n",
       "      <td>200</td>\n",
       "      <td>955644</td>\n",
       "      <td>NaN</td>\n",
       "      <td>5</td>\n",
       "      <td>783</td>\n",
       "      <td>1258476.0</td>\n",
       "      <td>126</td>\n",
       "      <td>1259385.0</td>\n",
       "    </tr>\n",
       "  </tbody>\n",
       "</table>\n",
       "</div>"
      ],
      "text/plain": [
       "     Unnamed: 0      id text  comments.count  likes.count  views.count  \\\n",
       "200         200  955644  NaN               5          783    1258476.0   \n",
       "\n",
       "     reposts.count   reaction  \n",
       "200            126  1259385.0  "
      ]
     },
     "execution_count": 10,
     "metadata": {},
     "output_type": "execute_result"
    }
   ],
   "source": [
    "posts[posts['reaction']==posts['reaction'].max()]"
   ]
  },
  {
   "cell_type": "markdown",
   "id": "0ddee05d",
   "metadata": {},
   "source": [
    "Больше всего реакций в ленте собрал тот же вертикальный ролик, у котрого больше всего просмотров. Его снова можно найти по ссылке: https://vk.com/wall-60777940_955644 Это юмористический ролик, случай, который в нём описан был у многих в жизни, поэтому скорее всего он так и отозвался у всех"
   ]
  },
  {
   "cell_type": "markdown",
   "id": "6ed4eb8d",
   "metadata": {},
   "source": [
    "Так бывает не всегда, больше ценятся ролики, которые вызывают много реакций, чем те, которые набирают много просмотров, но часто это взаимосвязано."
   ]
  },
  {
   "cell_type": "code",
   "execution_count": 11,
   "id": "349fb15a",
   "metadata": {},
   "outputs": [
    {
     "data": {
      "text/html": [
       "<div>\n",
       "<style scoped>\n",
       "    .dataframe tbody tr th:only-of-type {\n",
       "        vertical-align: middle;\n",
       "    }\n",
       "\n",
       "    .dataframe tbody tr th {\n",
       "        vertical-align: top;\n",
       "    }\n",
       "\n",
       "    .dataframe thead th {\n",
       "        text-align: right;\n",
       "    }\n",
       "</style>\n",
       "<table border=\"1\" class=\"dataframe\">\n",
       "  <thead>\n",
       "    <tr style=\"text-align: right;\">\n",
       "      <th></th>\n",
       "      <th>Unnamed: 0</th>\n",
       "      <th>id</th>\n",
       "      <th>text</th>\n",
       "      <th>comments.count</th>\n",
       "      <th>likes.count</th>\n",
       "      <th>views.count</th>\n",
       "      <th>reposts.count</th>\n",
       "      <th>reaction</th>\n",
       "    </tr>\n",
       "  </thead>\n",
       "  <tbody>\n",
       "    <tr>\n",
       "      <th>5417</th>\n",
       "      <td>5417</td>\n",
       "      <td>690820</td>\n",
       "      <td>🎉 Внимание 🎉\\n🎈Отличные новости в магазине MOL...</td>\n",
       "      <td>0</td>\n",
       "      <td>0</td>\n",
       "      <td>663.0</td>\n",
       "      <td>0</td>\n",
       "      <td>663.0</td>\n",
       "    </tr>\n",
       "  </tbody>\n",
       "</table>\n",
       "</div>"
      ],
      "text/plain": [
       "      Unnamed: 0      id                                               text  \\\n",
       "5417        5417  690820  🎉 Внимание 🎉\\n🎈Отличные новости в магазине MOL...   \n",
       "\n",
       "      comments.count  likes.count  views.count  reposts.count  reaction  \n",
       "5417               0            0        663.0              0     663.0  "
      ]
     },
     "execution_count": 11,
     "metadata": {},
     "output_type": "execute_result"
    }
   ],
   "source": [
    "posts[posts['reaction']==posts['reaction'].min()]"
   ]
  },
  {
   "cell_type": "code",
   "execution_count": 12,
   "id": "e84ec592",
   "metadata": {},
   "outputs": [
    {
     "data": {
      "text/html": [
       "<div>\n",
       "<style scoped>\n",
       "    .dataframe tbody tr th:only-of-type {\n",
       "        vertical-align: middle;\n",
       "    }\n",
       "\n",
       "    .dataframe tbody tr th {\n",
       "        vertical-align: top;\n",
       "    }\n",
       "\n",
       "    .dataframe thead th {\n",
       "        text-align: right;\n",
       "    }\n",
       "</style>\n",
       "<table border=\"1\" class=\"dataframe\">\n",
       "  <thead>\n",
       "    <tr style=\"text-align: right;\">\n",
       "      <th></th>\n",
       "      <th>Unnamed: 0</th>\n",
       "      <th>id</th>\n",
       "      <th>text</th>\n",
       "      <th>comments.count</th>\n",
       "      <th>likes.count</th>\n",
       "      <th>views.count</th>\n",
       "      <th>reposts.count</th>\n",
       "      <th>reaction</th>\n",
       "    </tr>\n",
       "  </thead>\n",
       "  <tbody>\n",
       "    <tr>\n",
       "      <th>5417</th>\n",
       "      <td>5417</td>\n",
       "      <td>690820</td>\n",
       "      <td>🎉 Внимание 🎉\\n🎈Отличные новости в магазине MOL...</td>\n",
       "      <td>0</td>\n",
       "      <td>0</td>\n",
       "      <td>663.0</td>\n",
       "      <td>0</td>\n",
       "      <td>663.0</td>\n",
       "    </tr>\n",
       "  </tbody>\n",
       "</table>\n",
       "</div>"
      ],
      "text/plain": [
       "      Unnamed: 0      id                                               text  \\\n",
       "5417        5417  690820  🎉 Внимание 🎉\\n🎈Отличные новости в магазине MOL...   \n",
       "\n",
       "      comments.count  likes.count  views.count  reposts.count  reaction  \n",
       "5417               0            0        663.0              0     663.0  "
      ]
     },
     "execution_count": 12,
     "metadata": {},
     "output_type": "execute_result"
    }
   ],
   "source": [
    "posts[posts['views.count']==posts['views.count'].min()]"
   ]
  },
  {
   "cell_type": "markdown",
   "id": "1d2538fd",
   "metadata": {},
   "source": [
    "Отсутвие реакций на самом менее просматриваемом посте (https://vk.com/wall-60777940_690820) Это была пересылка рекламного поста, которая ни у кого не отозвалась. Пост выходил 4 года назад."
   ]
  },
  {
   "cell_type": "code",
   "execution_count": 3,
   "id": "82c9f752",
   "metadata": {},
   "outputs": [
    {
     "data": {
      "text/html": [
       "<div>\n",
       "<style scoped>\n",
       "    .dataframe tbody tr th:only-of-type {\n",
       "        vertical-align: middle;\n",
       "    }\n",
       "\n",
       "    .dataframe tbody tr th {\n",
       "        vertical-align: top;\n",
       "    }\n",
       "\n",
       "    .dataframe thead th {\n",
       "        text-align: right;\n",
       "    }\n",
       "</style>\n",
       "<table border=\"1\" class=\"dataframe\">\n",
       "  <thead>\n",
       "    <tr style=\"text-align: right;\">\n",
       "      <th></th>\n",
       "      <th>Unnamed: 0</th>\n",
       "      <th>id</th>\n",
       "      <th>text</th>\n",
       "      <th>comments.count</th>\n",
       "      <th>likes.count</th>\n",
       "      <th>views.count</th>\n",
       "      <th>reposts.count</th>\n",
       "    </tr>\n",
       "  </thead>\n",
       "  <tbody>\n",
       "    <tr>\n",
       "      <th>15344</th>\n",
       "      <td>15344</td>\n",
       "      <td>457128</td>\n",
       "      <td>[club60777940|+ Подписаться]</td>\n",
       "      <td>2</td>\n",
       "      <td>22599</td>\n",
       "      <td>770257.0</td>\n",
       "      <td>346</td>\n",
       "    </tr>\n",
       "  </tbody>\n",
       "</table>\n",
       "</div>"
      ],
      "text/plain": [
       "       Unnamed: 0      id                          text  comments.count  \\\n",
       "15344       15344  457128  [club60777940|+ Подписаться]               2   \n",
       "\n",
       "       likes.count  views.count  reposts.count  \n",
       "15344        22599     770257.0            346  "
      ]
     },
     "execution_count": 3,
     "metadata": {},
     "output_type": "execute_result"
    }
   ],
   "source": [
    "posts[posts['likes.count']==posts['likes.count'].max()]"
   ]
  },
  {
   "cell_type": "markdown",
   "id": "ba7afd01",
   "metadata": {},
   "source": [
    "Больше всего лайков на посте https://vk.com/wall-60777940_457128 Это очень старый пост за 2017 год. Картинки такого плана сейчас были бы не актуальны"
   ]
  },
  {
   "cell_type": "code",
   "execution_count": 4,
   "id": "87daad51",
   "metadata": {},
   "outputs": [
    {
     "data": {
      "text/plain": [
       "175.69324983884334"
      ]
     },
     "execution_count": 4,
     "metadata": {},
     "output_type": "execute_result"
    }
   ],
   "source": [
    "posts['likes.count'].mean()"
   ]
  },
  {
   "cell_type": "markdown",
   "id": "87620a0e",
   "metadata": {},
   "source": [
    "В среднем на постах люди ставят около 175 лайков"
   ]
  },
  {
   "cell_type": "code",
   "execution_count": 7,
   "id": "c0cd4f6b",
   "metadata": {},
   "outputs": [
    {
     "data": {
      "text/html": [
       "<div>\n",
       "<style scoped>\n",
       "    .dataframe tbody tr th:only-of-type {\n",
       "        vertical-align: middle;\n",
       "    }\n",
       "\n",
       "    .dataframe tbody tr th {\n",
       "        vertical-align: top;\n",
       "    }\n",
       "\n",
       "    .dataframe thead th {\n",
       "        text-align: right;\n",
       "    }\n",
       "</style>\n",
       "<table border=\"1\" class=\"dataframe\">\n",
       "  <thead>\n",
       "    <tr style=\"text-align: right;\">\n",
       "      <th></th>\n",
       "      <th>Unnamed: 0</th>\n",
       "      <th>id</th>\n",
       "      <th>text</th>\n",
       "      <th>comments.count</th>\n",
       "      <th>likes.count</th>\n",
       "      <th>views.count</th>\n",
       "      <th>reposts.count</th>\n",
       "    </tr>\n",
       "  </thead>\n",
       "  <tbody>\n",
       "    <tr>\n",
       "      <th>200</th>\n",
       "      <td>200</td>\n",
       "      <td>955644</td>\n",
       "      <td>NaN</td>\n",
       "      <td>5</td>\n",
       "      <td>783</td>\n",
       "      <td>1258476.0</td>\n",
       "      <td>126</td>\n",
       "    </tr>\n",
       "    <tr>\n",
       "      <th>40</th>\n",
       "      <td>40</td>\n",
       "      <td>956732</td>\n",
       "      <td>NaN</td>\n",
       "      <td>5</td>\n",
       "      <td>524</td>\n",
       "      <td>1033350.0</td>\n",
       "      <td>41</td>\n",
       "    </tr>\n",
       "    <tr>\n",
       "      <th>19</th>\n",
       "      <td>19</td>\n",
       "      <td>956869</td>\n",
       "      <td>NaN</td>\n",
       "      <td>0</td>\n",
       "      <td>262</td>\n",
       "      <td>1010877.0</td>\n",
       "      <td>128</td>\n",
       "    </tr>\n",
       "    <tr>\n",
       "      <th>196</th>\n",
       "      <td>196</td>\n",
       "      <td>955659</td>\n",
       "      <td>NaN</td>\n",
       "      <td>1</td>\n",
       "      <td>513</td>\n",
       "      <td>1008002.0</td>\n",
       "      <td>79</td>\n",
       "    </tr>\n",
       "    <tr>\n",
       "      <th>136</th>\n",
       "      <td>136</td>\n",
       "      <td>955998</td>\n",
       "      <td>NaN</td>\n",
       "      <td>12</td>\n",
       "      <td>5674</td>\n",
       "      <td>1001730.0</td>\n",
       "      <td>735</td>\n",
       "    </tr>\n",
       "    <tr>\n",
       "      <th>...</th>\n",
       "      <td>...</td>\n",
       "      <td>...</td>\n",
       "      <td>...</td>\n",
       "      <td>...</td>\n",
       "      <td>...</td>\n",
       "      <td>...</td>\n",
       "      <td>...</td>\n",
       "    </tr>\n",
       "    <tr>\n",
       "      <th>43431</th>\n",
       "      <td>43431</td>\n",
       "      <td>8</td>\n",
       "      <td>Mad Catz анонсирует мобильную клавиатуру S.T.R...</td>\n",
       "      <td>5</td>\n",
       "      <td>59</td>\n",
       "      <td>NaN</td>\n",
       "      <td>6</td>\n",
       "    </tr>\n",
       "    <tr>\n",
       "      <th>43432</th>\n",
       "      <td>43432</td>\n",
       "      <td>7</td>\n",
       "      <td>Sony представила новые беззеркальные камеры дл...</td>\n",
       "      <td>0</td>\n",
       "      <td>86</td>\n",
       "      <td>NaN</td>\n",
       "      <td>21</td>\n",
       "    </tr>\n",
       "    <tr>\n",
       "      <th>43433</th>\n",
       "      <td>43433</td>\n",
       "      <td>6</td>\n",
       "      <td>Ematic Cinema Tab — 13,3-дюймовый Android-план...</td>\n",
       "      <td>2</td>\n",
       "      <td>7</td>\n",
       "      <td>NaN</td>\n",
       "      <td>0</td>\n",
       "    </tr>\n",
       "    <tr>\n",
       "      <th>43434</th>\n",
       "      <td>43434</td>\n",
       "      <td>5</td>\n",
       "      <td>Кейс-счеты для iPhone\\n\\nТрудно спорить с тем ...</td>\n",
       "      <td>8</td>\n",
       "      <td>62</td>\n",
       "      <td>NaN</td>\n",
       "      <td>14</td>\n",
       "    </tr>\n",
       "    <tr>\n",
       "      <th>43435</th>\n",
       "      <td>43435</td>\n",
       "      <td>4</td>\n",
       "      <td>Производство Samsung Galaxy Note 12.2 начнется...</td>\n",
       "      <td>3</td>\n",
       "      <td>24</td>\n",
       "      <td>NaN</td>\n",
       "      <td>4</td>\n",
       "    </tr>\n",
       "  </tbody>\n",
       "</table>\n",
       "<p>43436 rows × 7 columns</p>\n",
       "</div>"
      ],
      "text/plain": [
       "       Unnamed: 0      id                                               text  \\\n",
       "200           200  955644                                                NaN   \n",
       "40             40  956732                                                NaN   \n",
       "19             19  956869                                                NaN   \n",
       "196           196  955659                                                NaN   \n",
       "136           136  955998                                                NaN   \n",
       "...           ...     ...                                                ...   \n",
       "43431       43431       8  Mad Catz анонсирует мобильную клавиатуру S.T.R...   \n",
       "43432       43432       7  Sony представила новые беззеркальные камеры дл...   \n",
       "43433       43433       6  Ematic Cinema Tab — 13,3-дюймовый Android-план...   \n",
       "43434       43434       5  Кейс-счеты для iPhone\\n\\nТрудно спорить с тем ...   \n",
       "43435       43435       4  Производство Samsung Galaxy Note 12.2 начнется...   \n",
       "\n",
       "       comments.count  likes.count  views.count  reposts.count  \n",
       "200                 5          783    1258476.0            126  \n",
       "40                  5          524    1033350.0             41  \n",
       "19                  0          262    1010877.0            128  \n",
       "196                 1          513    1008002.0             79  \n",
       "136                12         5674    1001730.0            735  \n",
       "...               ...          ...          ...            ...  \n",
       "43431               5           59          NaN              6  \n",
       "43432               0           86          NaN             21  \n",
       "43433               2            7          NaN              0  \n",
       "43434               8           62          NaN             14  \n",
       "43435               3           24          NaN              4  \n",
       "\n",
       "[43436 rows x 7 columns]"
      ]
     },
     "execution_count": 7,
     "metadata": {},
     "output_type": "execute_result"
    }
   ],
   "source": [
    "posts.sort_values('views.count', ascending = False)"
   ]
  },
  {
   "cell_type": "markdown",
   "id": "f16d9e7e",
   "metadata": {},
   "source": [
    "Отсортировав датасет по количеству просмотров, можно понять, что больше всего собирают вертикальные видео, а в самом конце с отсутствие данных о просмотре стоят текстовые посты"
   ]
  },
  {
   "cell_type": "code",
   "execution_count": 17,
   "id": "d0f164cf",
   "metadata": {},
   "outputs": [
    {
     "data": {
      "image/png": "[encoded data removed]",
      "text/plain": [
       "<Figure size 640x480 with 1 Axes>"
      ]
     },
     "metadata": {},
     "output_type": "display_data"
    }
   ],
   "source": [
    "import matplotlib.pyplot as plt\n",
    "posts['views.count'].plot(kind = \"box\", vert=False)\n",
    "plt.title('Визуализация выбросов для переменной о просмотрах постов')\n",
    "plt.show()"
   ]
  },
  {
   "cell_type": "markdown",
   "id": "59b52d10",
   "metadata": {},
   "source": [
    "Выбросов много, так как количество просмотров часто разнится"
   ]
  },
  {
   "cell_type": "code",
   "execution_count": 20,
   "id": "b249fdf2",
   "metadata": {},
   "outputs": [
    {
     "data": {
      "image/png": "[encoded data removed]",
      "text/plain": [
       "<Figure size 640x480 with 1 Axes>"
      ]
     },
     "metadata": {},
     "output_type": "display_data"
    }
   ],
   "source": [
    "posts['views.count'].hist(bins=100, color=\"red\")\n",
    "plt.title('Гистограмма распределения просмотров на постах')\n",
    "plt.show()"
   ]
  },
  {
   "cell_type": "markdown",
   "id": "63779ed6",
   "metadata": {},
   "source": [
    "Чаще всего просмотров больше 12000"
   ]
  },
  {
   "cell_type": "code",
   "execution_count": 26,
   "id": "d44bc90e",
   "metadata": {},
   "outputs": [
    {
     "data": {
      "text/plain": [
       "21934"
      ]
     },
     "execution_count": 26,
     "metadata": {},
     "output_type": "execute_result"
    }
   ],
   "source": [
    "avg = posts['reaction'].mean()\n",
    "std = posts['reaction'].std()\n",
    "low = avg-2*std\n",
    "up = avg+2*std\n",
    "posts[(posts['reaction'] <low) | (posts['reaction'])].shape[0]"
   ]
  },
  {
   "cell_type": "code",
   "execution_count": 27,
   "id": "fc1d6d9a",
   "metadata": {},
   "outputs": [
    {
     "data": {
      "text/plain": [
       "34049.76807695815"
      ]
     },
     "execution_count": 27,
     "metadata": {},
     "output_type": "execute_result"
    }
   ],
   "source": [
    "posts['reaction'].mean()"
   ]
  },
  {
   "cell_type": "markdown",
   "id": "c7f47bb3",
   "metadata": {},
   "source": [
    "Я посчитала количество выбросов для реакций на посты, их очень много, так как в среднем реакций 34049, но часто бывают и отлонения, как в положительную, так и в отрицательную сторону"
   ]
  },
  {
   "cell_type": "code",
   "execution_count": 28,
   "id": "ac8a79b1",
   "metadata": {},
   "outputs": [
    {
     "data": {
      "text/plain": [
       "Unnamed: 0            0\n",
       "id                    0\n",
       "text               8114\n",
       "comments.count        0\n",
       "likes.count           0\n",
       "views.count       21502\n",
       "reposts.count         0\n",
       "reaction          21502\n",
       "dtype: int64"
      ]
     },
     "execution_count": 28,
     "metadata": {},
     "output_type": "execute_result"
    }
   ],
   "source": [
    "posts.isna().sum()"
   ]
  },
  {
   "cell_type": "markdown",
   "id": "224c0d17",
   "metadata": {},
   "source": [
    "В группе \"Фон\" 8114 пропущенных по тексту постов, это значит, что там выпустили 8114 вертикальных видео"
   ]
  },
  {
   "cell_type": "markdown",
   "id": "8b65c734",
   "metadata": {},
   "source": [
    "21502 постов с отсутствием реакий и просмотров, посты, которые никто не видел, но они есть и их очень много"
   ]
  },
  {
   "cell_type": "code",
   "execution_count": 29,
   "id": "a446d304",
   "metadata": {},
   "outputs": [
    {
     "name": "stderr",
     "output_type": "stream",
     "text": [
      "C:\\Users\\ASUS\\AppData\\Local\\Temp\\ipykernel_4904\\3169560326.py:1: FutureWarning: The default value of numeric_only in DataFrame.corr is deprecated. In a future version, it will default to False. Select only valid columns or specify the value of numeric_only to silence this warning.\n",
      "  posts.corr()\n"
     ]
    },
    {
     "data": {
      "text/html": [
       "<div>\n",
       "<style scoped>\n",
       "    .dataframe tbody tr th:only-of-type {\n",
       "        vertical-align: middle;\n",
       "    }\n",
       "\n",
       "    .dataframe tbody tr th {\n",
       "        vertical-align: top;\n",
       "    }\n",
       "\n",
       "    .dataframe thead th {\n",
       "        text-align: right;\n",
       "    }\n",
       "</style>\n",
       "<table border=\"1\" class=\"dataframe\">\n",
       "  <thead>\n",
       "    <tr style=\"text-align: right;\">\n",
       "      <th></th>\n",
       "      <th>Unnamed: 0</th>\n",
       "      <th>id</th>\n",
       "      <th>comments.count</th>\n",
       "      <th>likes.count</th>\n",
       "      <th>views.count</th>\n",
       "      <th>reposts.count</th>\n",
       "      <th>reaction</th>\n",
       "    </tr>\n",
       "  </thead>\n",
       "  <tbody>\n",
       "    <tr>\n",
       "      <th>Unnamed: 0</th>\n",
       "      <td>1.000000</td>\n",
       "      <td>-0.980819</td>\n",
       "      <td>-0.136883</td>\n",
       "      <td>-0.194833</td>\n",
       "      <td>-0.356184</td>\n",
       "      <td>-0.230046</td>\n",
       "      <td>-0.356068</td>\n",
       "    </tr>\n",
       "    <tr>\n",
       "      <th>id</th>\n",
       "      <td>-0.980819</td>\n",
       "      <td>1.000000</td>\n",
       "      <td>0.163361</td>\n",
       "      <td>0.167403</td>\n",
       "      <td>0.410795</td>\n",
       "      <td>0.282467</td>\n",
       "      <td>0.410390</td>\n",
       "    </tr>\n",
       "    <tr>\n",
       "      <th>comments.count</th>\n",
       "      <td>-0.136883</td>\n",
       "      <td>0.163361</td>\n",
       "      <td>1.000000</td>\n",
       "      <td>0.162726</td>\n",
       "      <td>0.222098</td>\n",
       "      <td>0.244594</td>\n",
       "      <td>0.222665</td>\n",
       "    </tr>\n",
       "    <tr>\n",
       "      <th>likes.count</th>\n",
       "      <td>-0.194833</td>\n",
       "      <td>0.167403</td>\n",
       "      <td>0.162726</td>\n",
       "      <td>1.000000</td>\n",
       "      <td>0.341895</td>\n",
       "      <td>0.298485</td>\n",
       "      <td>0.346566</td>\n",
       "    </tr>\n",
       "    <tr>\n",
       "      <th>views.count</th>\n",
       "      <td>-0.356184</td>\n",
       "      <td>0.410795</td>\n",
       "      <td>0.222098</td>\n",
       "      <td>0.341895</td>\n",
       "      <td>1.000000</td>\n",
       "      <td>0.356946</td>\n",
       "      <td>0.999986</td>\n",
       "    </tr>\n",
       "    <tr>\n",
       "      <th>reposts.count</th>\n",
       "      <td>-0.230046</td>\n",
       "      <td>0.282467</td>\n",
       "      <td>0.244594</td>\n",
       "      <td>0.298485</td>\n",
       "      <td>0.356946</td>\n",
       "      <td>1.000000</td>\n",
       "      <td>0.358892</td>\n",
       "    </tr>\n",
       "    <tr>\n",
       "      <th>reaction</th>\n",
       "      <td>-0.356068</td>\n",
       "      <td>0.410390</td>\n",
       "      <td>0.222665</td>\n",
       "      <td>0.346566</td>\n",
       "      <td>0.999986</td>\n",
       "      <td>0.358892</td>\n",
       "      <td>1.000000</td>\n",
       "    </tr>\n",
       "  </tbody>\n",
       "</table>\n",
       "</div>"
      ],
      "text/plain": [
       "                Unnamed: 0        id  comments.count  likes.count  \\\n",
       "Unnamed: 0        1.000000 -0.980819       -0.136883    -0.194833   \n",
       "id               -0.980819  1.000000        0.163361     0.167403   \n",
       "comments.count   -0.136883  0.163361        1.000000     0.162726   \n",
       "likes.count      -0.194833  0.167403        0.162726     1.000000   \n",
       "views.count      -0.356184  0.410795        0.222098     0.341895   \n",
       "reposts.count    -0.230046  0.282467        0.244594     0.298485   \n",
       "reaction         -0.356068  0.410390        0.222665     0.346566   \n",
       "\n",
       "                views.count  reposts.count  reaction  \n",
       "Unnamed: 0        -0.356184      -0.230046 -0.356068  \n",
       "id                 0.410795       0.282467  0.410390  \n",
       "comments.count     0.222098       0.244594  0.222665  \n",
       "likes.count        0.341895       0.298485  0.346566  \n",
       "views.count        1.000000       0.356946  0.999986  \n",
       "reposts.count      0.356946       1.000000  0.358892  \n",
       "reaction           0.999986       0.358892  1.000000  "
      ]
     },
     "execution_count": 29,
     "metadata": {},
     "output_type": "execute_result"
    }
   ],
   "source": [
    "posts.corr()"
   ]
  },
  {
   "cell_type": "markdown",
   "id": "b5fc5615",
   "metadata": {},
   "source": [
    "Можем заметить, что количество реакций имеет сильную корреляционную связь с количеством просмотров."
   ]
  },
  {
   "cell_type": "code",
   "execution_count": 31,
   "id": "ccac5044",
   "metadata": {},
   "outputs": [
    {
     "data": {
      "text/plain": [
       "<Axes: xlabel='views.count', ylabel='reaction'>"
      ]
     },
     "execution_count": 31,
     "metadata": {},
     "output_type": "execute_result"
    },
    {
     "data": {
      "image/png": "[encoded data removed]",
      "text/plain": [
       "<Figure size 640x480 with 1 Axes>"
      ]
     },
     "metadata": {},
     "output_type": "display_data"
    }
   ],
   "source": [
    "posts.plot('views.count', 'reaction', kind = 'scatter')"
   ]
  },
  {
   "cell_type": "markdown",
   "id": "6dce36ef",
   "metadata": {},
   "source": [
    "На графике рассеяния четко видна прямая линейная зависимость этих двух переменных"
   ]
  },
  {
   "cell_type": "markdown",
   "id": "f8c2f422",
   "metadata": {},
   "source": [
    "Таким образом мы выяснили, что в посты группы входят и вертикальные видео, они набирают больше всего просмотров. Но по реакциям лидирует пост с текстом. Количество реакций напрямую зависит от количества просмотров. "
   ]
  },
  {
   "cell_type": "markdown",
   "id": "3b802cd0",
   "metadata": {},
   "source": [
    "# Теперь начнём рассматривать целевую аудиторию группы"
   ]
  },
  {
   "cell_type": "code",
   "execution_count": 35,
   "id": "8879baf9",
   "metadata": {},
   "outputs": [
    {
     "name": "stdout",
     "output_type": "stream",
     "text": [
      "<class 'pandas.core.frame.DataFrame'>\n",
      "RangeIndex: 596533 entries, 0 to 596532\n",
      "Data columns (total 19 columns):\n",
      " #   Column             Non-Null Count   Dtype  \n",
      "---  ------             --------------   -----  \n",
      " 0   Unnamed: 0         596533 non-null  int64  \n",
      " 1   id                 596533 non-null  int64  \n",
      " 2   city               482098 non-null  object \n",
      " 3   sex                596533 non-null  int64  \n",
      " 4   first_name         596533 non-null  object \n",
      " 5   last_name          594011 non-null  object \n",
      " 6   can_access_closed  596533 non-null  bool   \n",
      " 7   is_closed          596533 non-null  bool   \n",
      " 8   bdate              456588 non-null  object \n",
      " 9   university         181312 non-null  float64\n",
      " 10  university_name    64023 non-null   object \n",
      " 11  faculty            181312 non-null  float64\n",
      " 12  faculty_name       51396 non-null   object \n",
      " 13  graduation         181312 non-null  float64\n",
      " 14  education_form     41433 non-null   object \n",
      " 15  education_status   36167 non-null   object \n",
      " 16  home_town          120058 non-null  object \n",
      " 17  deactivated        39218 non-null   object \n",
      " 18  group              596533 non-null  object \n",
      "dtypes: bool(2), float64(3), int64(3), object(11)\n",
      "memory usage: 78.5+ MB\n"
     ]
    }
   ],
   "source": [
    "subscribers.info()"
   ]
  },
  {
   "cell_type": "code",
   "execution_count": 36,
   "id": "fbdd5ff8",
   "metadata": {},
   "outputs": [
    {
     "data": {
      "text/html": [
       "<div>\n",
       "<style scoped>\n",
       "    .dataframe tbody tr th:only-of-type {\n",
       "        vertical-align: middle;\n",
       "    }\n",
       "\n",
       "    .dataframe tbody tr th {\n",
       "        vertical-align: top;\n",
       "    }\n",
       "\n",
       "    .dataframe thead th {\n",
       "        text-align: right;\n",
       "    }\n",
       "</style>\n",
       "<table border=\"1\" class=\"dataframe\">\n",
       "  <thead>\n",
       "    <tr style=\"text-align: right;\">\n",
       "      <th></th>\n",
       "      <th>Unnamed: 0</th>\n",
       "      <th>id</th>\n",
       "      <th>city</th>\n",
       "      <th>sex</th>\n",
       "      <th>first_name</th>\n",
       "      <th>last_name</th>\n",
       "      <th>can_access_closed</th>\n",
       "      <th>is_closed</th>\n",
       "      <th>bdate</th>\n",
       "      <th>university</th>\n",
       "      <th>university_name</th>\n",
       "      <th>faculty</th>\n",
       "      <th>faculty_name</th>\n",
       "      <th>graduation</th>\n",
       "      <th>education_form</th>\n",
       "      <th>education_status</th>\n",
       "      <th>home_town</th>\n",
       "      <th>deactivated</th>\n",
       "      <th>group</th>\n",
       "    </tr>\n",
       "  </thead>\n",
       "  <tbody>\n",
       "    <tr>\n",
       "      <th>0</th>\n",
       "      <td>0</td>\n",
       "      <td>291</td>\n",
       "      <td>Сертолово</td>\n",
       "      <td>2</td>\n",
       "      <td>Виктор</td>\n",
       "      <td>Танчак</td>\n",
       "      <td>False</td>\n",
       "      <td>True</td>\n",
       "      <td>NaN</td>\n",
       "      <td>NaN</td>\n",
       "      <td>NaN</td>\n",
       "      <td>NaN</td>\n",
       "      <td>NaN</td>\n",
       "      <td>NaN</td>\n",
       "      <td>NaN</td>\n",
       "      <td>NaN</td>\n",
       "      <td>NaN</td>\n",
       "      <td>NaN</td>\n",
       "      <td>Фон</td>\n",
       "    </tr>\n",
       "    <tr>\n",
       "      <th>1</th>\n",
       "      <td>1</td>\n",
       "      <td>453</td>\n",
       "      <td>Auckland</td>\n",
       "      <td>1</td>\n",
       "      <td>Ярославна</td>\n",
       "      <td>Гаген-Торн</td>\n",
       "      <td>True</td>\n",
       "      <td>False</td>\n",
       "      <td>8.10.1983</td>\n",
       "      <td>1.0</td>\n",
       "      <td>СПбГУ</td>\n",
       "      <td>7.0</td>\n",
       "      <td>Математико-механический</td>\n",
       "      <td>2007.0</td>\n",
       "      <td>Очное отделение</td>\n",
       "      <td>Выпускница (специалист)</td>\n",
       "      <td>Санкт-Петербург</td>\n",
       "      <td>NaN</td>\n",
       "      <td>Фон</td>\n",
       "    </tr>\n",
       "    <tr>\n",
       "      <th>2</th>\n",
       "      <td>2</td>\n",
       "      <td>512</td>\n",
       "      <td>NaN</td>\n",
       "      <td>2</td>\n",
       "      <td>Егор</td>\n",
       "      <td>Деметрадзе</td>\n",
       "      <td>True</td>\n",
       "      <td>False</td>\n",
       "      <td>NaN</td>\n",
       "      <td>0.0</td>\n",
       "      <td>NaN</td>\n",
       "      <td>0.0</td>\n",
       "      <td>NaN</td>\n",
       "      <td>0.0</td>\n",
       "      <td>NaN</td>\n",
       "      <td>NaN</td>\n",
       "      <td>Новосибирск</td>\n",
       "      <td>NaN</td>\n",
       "      <td>Фон</td>\n",
       "    </tr>\n",
       "    <tr>\n",
       "      <th>3</th>\n",
       "      <td>3</td>\n",
       "      <td>634</td>\n",
       "      <td>Санкт-Петербург</td>\n",
       "      <td>2</td>\n",
       "      <td>Алексей</td>\n",
       "      <td>Шпаковский</td>\n",
       "      <td>True</td>\n",
       "      <td>False</td>\n",
       "      <td>21.11.1982</td>\n",
       "      <td>65.0</td>\n",
       "      <td>СПбГУТ им. Бонч-Бруевича</td>\n",
       "      <td>298.0</td>\n",
       "      <td>Сетей связи, систем коммутации и вычислительно...</td>\n",
       "      <td>0.0</td>\n",
       "      <td>Очное отделение</td>\n",
       "      <td>Выпускник (специалист)</td>\n",
       "      <td>Санкт-Петербург</td>\n",
       "      <td>NaN</td>\n",
       "      <td>Фон</td>\n",
       "    </tr>\n",
       "    <tr>\n",
       "      <th>4</th>\n",
       "      <td>4</td>\n",
       "      <td>762</td>\n",
       "      <td>Санкт-Петербург</td>\n",
       "      <td>2</td>\n",
       "      <td>Константин</td>\n",
       "      <td>Белоус</td>\n",
       "      <td>True</td>\n",
       "      <td>False</td>\n",
       "      <td>NaN</td>\n",
       "      <td>NaN</td>\n",
       "      <td>NaN</td>\n",
       "      <td>NaN</td>\n",
       "      <td>NaN</td>\n",
       "      <td>NaN</td>\n",
       "      <td>NaN</td>\n",
       "      <td>NaN</td>\n",
       "      <td>NaN</td>\n",
       "      <td>NaN</td>\n",
       "      <td>Фон</td>\n",
       "    </tr>\n",
       "  </tbody>\n",
       "</table>\n",
       "</div>"
      ],
      "text/plain": [
       "   Unnamed: 0   id             city  sex  first_name   last_name  \\\n",
       "0           0  291        Сертолово    2      Виктор      Танчак   \n",
       "1           1  453         Auckland    1   Ярославна  Гаген-Торн   \n",
       "2           2  512              NaN    2        Егор  Деметрадзе   \n",
       "3           3  634  Санкт-Петербург    2     Алексей  Шпаковский   \n",
       "4           4  762  Санкт-Петербург    2  Константин      Белоус   \n",
       "\n",
       "   can_access_closed  is_closed       bdate  university  \\\n",
       "0              False       True         NaN         NaN   \n",
       "1               True      False   8.10.1983         1.0   \n",
       "2               True      False         NaN         0.0   \n",
       "3               True      False  21.11.1982        65.0   \n",
       "4               True      False         NaN         NaN   \n",
       "\n",
       "            university_name  faculty  \\\n",
       "0                       NaN      NaN   \n",
       "1                     СПбГУ      7.0   \n",
       "2                       NaN      0.0   \n",
       "3  СПбГУТ им. Бонч-Бруевича    298.0   \n",
       "4                       NaN      NaN   \n",
       "\n",
       "                                        faculty_name  graduation  \\\n",
       "0                                                NaN         NaN   \n",
       "1                            Математико-механический      2007.0   \n",
       "2                                                NaN         0.0   \n",
       "3  Сетей связи, систем коммутации и вычислительно...         0.0   \n",
       "4                                                NaN         NaN   \n",
       "\n",
       "    education_form         education_status        home_town deactivated group  \n",
       "0              NaN                      NaN              NaN         NaN   Фон  \n",
       "1  Очное отделение  Выпускница (специалист)  Санкт-Петербург         NaN   Фон  \n",
       "2              NaN                      NaN      Новосибирск         NaN   Фон  \n",
       "3  Очное отделение   Выпускник (специалист)  Санкт-Петербург         NaN   Фон  \n",
       "4              NaN                      NaN              NaN         NaN   Фон  "
      ]
     },
     "execution_count": 36,
     "metadata": {},
     "output_type": "execute_result"
    }
   ],
   "source": [
    "subscribers.head()"
   ]
  },
  {
   "cell_type": "markdown",
   "id": "2073d4e7",
   "metadata": {},
   "source": [
    "city\n",
    "sex\n",
    "first_name\n",
    "last_name\n",
    "can_access_closed\n",
    "is_closed\n",
    "bdate\n",
    "university\n",
    "university_name\n",
    "faculty\n",
    "faculty_name\n",
    "graduation\n",
    "education_form\n",
    "education_status\n",
    "home_town\n",
    "deactivated\n",
    "group"
   ]
  },
  {
   "cell_type": "markdown",
   "id": "d7d6f913",
   "metadata": {},
   "source": [
    "**city** - город проживания, который указали подписчики у себя на странице\n",
    "**sex** - пол\n",
    "**first_name**-имя\n",
    "**last_name**-фамилия\n",
    "**can_access_closed**- тип страницы\n",
    "**bdate** - дата рождения\n",
    "**university** - код университета\n",
    "**university_name**- название университета\n",
    "**faculty** - код факультет\n",
    "**faculty_name**- название факультета\n",
    "**graduation** - год выпуска\n",
    "**education_form** - форма образования\n",
    "**education_status**- статус образования\n",
    "**group** - анализируемая группа Вконтакте"
   ]
  },
  {
   "cell_type": "code",
   "execution_count": 8,
   "id": "67484c5c",
   "metadata": {},
   "outputs": [],
   "source": [
    "subscribers.drop('deactivated', axis=1, inplace=True)\n",
    "subscribers.drop('home_town', axis=1, inplace=True)"
   ]
  },
  {
   "cell_type": "code",
   "execution_count": 38,
   "id": "853197fd",
   "metadata": {},
   "outputs": [
    {
     "data": {
      "text/html": [
       "<div>\n",
       "<style scoped>\n",
       "    .dataframe tbody tr th:only-of-type {\n",
       "        vertical-align: middle;\n",
       "    }\n",
       "\n",
       "    .dataframe tbody tr th {\n",
       "        vertical-align: top;\n",
       "    }\n",
       "\n",
       "    .dataframe thead th {\n",
       "        text-align: right;\n",
       "    }\n",
       "</style>\n",
       "<table border=\"1\" class=\"dataframe\">\n",
       "  <thead>\n",
       "    <tr style=\"text-align: right;\">\n",
       "      <th></th>\n",
       "      <th>Unnamed: 0</th>\n",
       "      <th>id</th>\n",
       "      <th>city</th>\n",
       "      <th>sex</th>\n",
       "      <th>first_name</th>\n",
       "      <th>last_name</th>\n",
       "      <th>can_access_closed</th>\n",
       "      <th>is_closed</th>\n",
       "      <th>bdate</th>\n",
       "      <th>university</th>\n",
       "      <th>university_name</th>\n",
       "      <th>faculty</th>\n",
       "      <th>faculty_name</th>\n",
       "      <th>graduation</th>\n",
       "      <th>education_form</th>\n",
       "      <th>education_status</th>\n",
       "      <th>home_town</th>\n",
       "      <th>group</th>\n",
       "    </tr>\n",
       "  </thead>\n",
       "  <tbody>\n",
       "    <tr>\n",
       "      <th>0</th>\n",
       "      <td>0</td>\n",
       "      <td>291</td>\n",
       "      <td>Сертолово</td>\n",
       "      <td>2</td>\n",
       "      <td>Виктор</td>\n",
       "      <td>Танчак</td>\n",
       "      <td>False</td>\n",
       "      <td>True</td>\n",
       "      <td>NaN</td>\n",
       "      <td>NaN</td>\n",
       "      <td>NaN</td>\n",
       "      <td>NaN</td>\n",
       "      <td>NaN</td>\n",
       "      <td>NaN</td>\n",
       "      <td>NaN</td>\n",
       "      <td>NaN</td>\n",
       "      <td>NaN</td>\n",
       "      <td>Фон</td>\n",
       "    </tr>\n",
       "    <tr>\n",
       "      <th>1</th>\n",
       "      <td>1</td>\n",
       "      <td>453</td>\n",
       "      <td>Auckland</td>\n",
       "      <td>1</td>\n",
       "      <td>Ярославна</td>\n",
       "      <td>Гаген-Торн</td>\n",
       "      <td>True</td>\n",
       "      <td>False</td>\n",
       "      <td>8.10.1983</td>\n",
       "      <td>1.0</td>\n",
       "      <td>СПбГУ</td>\n",
       "      <td>7.0</td>\n",
       "      <td>Математико-механический</td>\n",
       "      <td>2007.0</td>\n",
       "      <td>Очное отделение</td>\n",
       "      <td>Выпускница (специалист)</td>\n",
       "      <td>Санкт-Петербург</td>\n",
       "      <td>Фон</td>\n",
       "    </tr>\n",
       "    <tr>\n",
       "      <th>2</th>\n",
       "      <td>2</td>\n",
       "      <td>512</td>\n",
       "      <td>NaN</td>\n",
       "      <td>2</td>\n",
       "      <td>Егор</td>\n",
       "      <td>Деметрадзе</td>\n",
       "      <td>True</td>\n",
       "      <td>False</td>\n",
       "      <td>NaN</td>\n",
       "      <td>0.0</td>\n",
       "      <td>NaN</td>\n",
       "      <td>0.0</td>\n",
       "      <td>NaN</td>\n",
       "      <td>0.0</td>\n",
       "      <td>NaN</td>\n",
       "      <td>NaN</td>\n",
       "      <td>Новосибирск</td>\n",
       "      <td>Фон</td>\n",
       "    </tr>\n",
       "    <tr>\n",
       "      <th>3</th>\n",
       "      <td>3</td>\n",
       "      <td>634</td>\n",
       "      <td>Санкт-Петербург</td>\n",
       "      <td>2</td>\n",
       "      <td>Алексей</td>\n",
       "      <td>Шпаковский</td>\n",
       "      <td>True</td>\n",
       "      <td>False</td>\n",
       "      <td>21.11.1982</td>\n",
       "      <td>65.0</td>\n",
       "      <td>СПбГУТ им. Бонч-Бруевича</td>\n",
       "      <td>298.0</td>\n",
       "      <td>Сетей связи, систем коммутации и вычислительно...</td>\n",
       "      <td>0.0</td>\n",
       "      <td>Очное отделение</td>\n",
       "      <td>Выпускник (специалист)</td>\n",
       "      <td>Санкт-Петербург</td>\n",
       "      <td>Фон</td>\n",
       "    </tr>\n",
       "    <tr>\n",
       "      <th>4</th>\n",
       "      <td>4</td>\n",
       "      <td>762</td>\n",
       "      <td>Санкт-Петербург</td>\n",
       "      <td>2</td>\n",
       "      <td>Константин</td>\n",
       "      <td>Белоус</td>\n",
       "      <td>True</td>\n",
       "      <td>False</td>\n",
       "      <td>NaN</td>\n",
       "      <td>NaN</td>\n",
       "      <td>NaN</td>\n",
       "      <td>NaN</td>\n",
       "      <td>NaN</td>\n",
       "      <td>NaN</td>\n",
       "      <td>NaN</td>\n",
       "      <td>NaN</td>\n",
       "      <td>NaN</td>\n",
       "      <td>Фон</td>\n",
       "    </tr>\n",
       "  </tbody>\n",
       "</table>\n",
       "</div>"
      ],
      "text/plain": [
       "   Unnamed: 0   id             city  sex  first_name   last_name  \\\n",
       "0           0  291        Сертолово    2      Виктор      Танчак   \n",
       "1           1  453         Auckland    1   Ярославна  Гаген-Торн   \n",
       "2           2  512              NaN    2        Егор  Деметрадзе   \n",
       "3           3  634  Санкт-Петербург    2     Алексей  Шпаковский   \n",
       "4           4  762  Санкт-Петербург    2  Константин      Белоус   \n",
       "\n",
       "   can_access_closed  is_closed       bdate  university  \\\n",
       "0              False       True         NaN         NaN   \n",
       "1               True      False   8.10.1983         1.0   \n",
       "2               True      False         NaN         0.0   \n",
       "3               True      False  21.11.1982        65.0   \n",
       "4               True      False         NaN         NaN   \n",
       "\n",
       "            university_name  faculty  \\\n",
       "0                       NaN      NaN   \n",
       "1                     СПбГУ      7.0   \n",
       "2                       NaN      0.0   \n",
       "3  СПбГУТ им. Бонч-Бруевича    298.0   \n",
       "4                       NaN      NaN   \n",
       "\n",
       "                                        faculty_name  graduation  \\\n",
       "0                                                NaN         NaN   \n",
       "1                            Математико-механический      2007.0   \n",
       "2                                                NaN         0.0   \n",
       "3  Сетей связи, систем коммутации и вычислительно...         0.0   \n",
       "4                                                NaN         NaN   \n",
       "\n",
       "    education_form         education_status        home_town group  \n",
       "0              NaN                      NaN              NaN   Фон  \n",
       "1  Очное отделение  Выпускница (специалист)  Санкт-Петербург   Фон  \n",
       "2              NaN                      NaN      Новосибирск   Фон  \n",
       "3  Очное отделение   Выпускник (специалист)  Санкт-Петербург   Фон  \n",
       "4              NaN                      NaN              NaN   Фон  "
      ]
     },
     "execution_count": 38,
     "metadata": {},
     "output_type": "execute_result"
    }
   ],
   "source": [
    "subscribers.head()"
   ]
  },
  {
   "cell_type": "code",
   "execution_count": 39,
   "id": "b1f70444",
   "metadata": {},
   "outputs": [
    {
     "data": {
      "text/plain": [
       "Фон    596533\n",
       "Name: group, dtype: int64"
      ]
     },
     "execution_count": 39,
     "metadata": {},
     "output_type": "execute_result"
    }
   ],
   "source": [
    "subscribers['group'].value_counts()"
   ]
  },
  {
   "cell_type": "code",
   "execution_count": 41,
   "id": "cebd3ebd",
   "metadata": {},
   "outputs": [
    {
     "data": {
      "text/plain": [
       "2    376040\n",
       "1    220365\n",
       "0       128\n",
       "Name: sex, dtype: int64"
      ]
     },
     "execution_count": 41,
     "metadata": {},
     "output_type": "execute_result"
    }
   ],
   "source": [
    "subscribers['sex'].value_counts()"
   ]
  },
  {
   "cell_type": "markdown",
   "id": "63a6010a",
   "metadata": {},
   "source": [
    "На паблик подписано больше женщин, чем мужчин"
   ]
  },
  {
   "cell_type": "code",
   "execution_count": 45,
   "id": "231878ce",
   "metadata": {},
   "outputs": [
    {
     "data": {
      "text/plain": [
       "1.7064415855512445"
      ]
     },
     "execution_count": 45,
     "metadata": {},
     "output_type": "execute_result"
    }
   ],
   "source": [
    "376040/220365"
   ]
  },
  {
   "cell_type": "markdown",
   "id": "2f6e82c2",
   "metadata": {},
   "source": [
    "В 1.7 раз больше, чем мужчин, то есть почти в два раза"
   ]
  },
  {
   "cell_type": "code",
   "execution_count": 46,
   "id": "c61cbc4e",
   "metadata": {},
   "outputs": [
    {
     "data": {
      "text/plain": [
       "0    Москва\n",
       "Name: city, dtype: object"
      ]
     },
     "execution_count": 46,
     "metadata": {},
     "output_type": "execute_result"
    }
   ],
   "source": [
    "subscribers['city'].mode()"
   ]
  },
  {
   "cell_type": "markdown",
   "id": "f2b62d0b",
   "metadata": {},
   "source": [
    "Больше всего на группу подписано жителей Москвы"
   ]
  },
  {
   "cell_type": "code",
   "execution_count": 48,
   "id": "98acbd4b",
   "metadata": {},
   "outputs": [
    {
     "data": {
      "text/plain": [
       "Москва                                51658\n",
       "Санкт-Петербург                       35686\n",
       "Киев                                  10510\n",
       "Екатеринбург                           7600\n",
       "Казань                                 7458\n",
       "                                      ...  \n",
       "Луковниково                               1\n",
       "Saukkola                                  1\n",
       "Михайловское (Валдайское с/п)             1\n",
       "Новоселовка (Новоселовская община)        1\n",
       "Глупеево                                  1\n",
       "Name: city, Length: 12488, dtype: int64"
      ]
     },
     "execution_count": 48,
     "metadata": {},
     "output_type": "execute_result"
    }
   ],
   "source": [
    "subscribers['city'].value_counts()"
   ]
  },
  {
   "cell_type": "markdown",
   "id": "fb47894f",
   "metadata": {},
   "source": [
    "Вторым по численности городом по количеству подписчиков \"Фона\" является Петербург. Более 10 тысяч человек из Киева смотрят контент группы \"Фон\" Вконтакте. То есть большая часть подписчиков не из России"
   ]
  },
  {
   "cell_type": "code",
   "execution_count": 50,
   "id": "ba9f32ed",
   "metadata": {},
   "outputs": [
    {
     "data": {
      "text/plain": [
       "Александр    24746\n",
       "Сергей       17697\n",
       "Андрей       15412\n",
       "Алексей      14885\n",
       "Дмитрий      14459\n",
       "             ...  \n",
       "Doz              1\n",
       "Селия            1\n",
       "Воробьёв         1\n",
       "Динька           1\n",
       "Yung             1\n",
       "Name: first_name, Length: 34874, dtype: int64"
      ]
     },
     "execution_count": 50,
     "metadata": {},
     "output_type": "execute_result"
    }
   ],
   "source": [
    "subscribers['first_name'].value_counts()"
   ]
  },
  {
   "cell_type": "markdown",
   "id": "25f5c2bd",
   "metadata": {},
   "source": [
    "Так как подписчики в основном из России, то мы можем выявить, что самое частое имя среди них Александр, да и в целом самые повторяющиеся имена именно у мужчин, хоть их и меньше подписано на паблик"
   ]
  },
  {
   "cell_type": "code",
   "execution_count": 51,
   "id": "8cddba45",
   "metadata": {},
   "outputs": [
    {
     "data": {
      "text/plain": [
       "Иванов        3735\n",
       "Иванова       1998\n",
       "Петров        1546\n",
       "Смирнов       1338\n",
       "Кузнецов      1177\n",
       "              ... \n",
       "Ераков           1\n",
       "Кифель           1\n",
       "Odarenko         1\n",
       "Нереальный       1\n",
       "Лджэ             1\n",
       "Name: last_name, Length: 179400, dtype: int64"
      ]
     },
     "execution_count": 51,
     "metadata": {},
     "output_type": "execute_result"
    }
   ],
   "source": [
    "subscribers['last_name'].value_counts()"
   ]
  },
  {
   "cell_type": "markdown",
   "id": "5b2277f3",
   "metadata": {},
   "source": [
    "А самые популярные фамилии у подписчиков по-настоящему русские, как мужские, так и женские Ивановы"
   ]
  },
  {
   "cell_type": "code",
   "execution_count": 52,
   "id": "29d6d76b",
   "metadata": {},
   "outputs": [
    {
     "data": {
      "text/plain": [
       "True     451867\n",
       "False    144666\n",
       "Name: can_access_closed, dtype: int64"
      ]
     },
     "execution_count": 52,
     "metadata": {},
     "output_type": "execute_result"
    }
   ],
   "source": [
    "subscribers['can_access_closed'].value_counts()"
   ]
  },
  {
   "cell_type": "code",
   "execution_count": 53,
   "id": "a2a5c558",
   "metadata": {},
   "outputs": [
    {
     "data": {
      "text/plain": [
       "3.123519002391716"
      ]
     },
     "execution_count": 53,
     "metadata": {},
     "output_type": "execute_result"
    }
   ],
   "source": [
    "451867/144666"
   ]
  },
  {
   "cell_type": "markdown",
   "id": "96755f86",
   "metadata": {},
   "source": [
    "По закрытости страниц подписчиков вышло, что в 3 раза больше открытых страниц, чем закрытых. Многие подписчики открыто относятся к своим личным данным"
   ]
  },
  {
   "cell_type": "code",
   "execution_count": 54,
   "id": "1e747f5a",
   "metadata": {},
   "outputs": [
    {
     "data": {
      "text/plain": [
       "Очное отделение           29515\n",
       "Заочное отделение         10086\n",
       "Очно-заочное отделение     1660\n",
       "Дистанционное обучение      119\n",
       "Экстернат                    53\n",
       "Name: education_form, dtype: int64"
      ]
     },
     "execution_count": 54,
     "metadata": {},
     "output_type": "execute_result"
    }
   ],
   "source": [
    "subscribers['education_form'].value_counts()"
   ]
  },
  {
   "cell_type": "markdown",
   "id": "a0910616",
   "metadata": {},
   "source": [
    "Чаще всего подписчики группы учились на очном отделении и получали высшее образование"
   ]
  },
  {
   "cell_type": "code",
   "execution_count": 57,
   "id": "dff6a571",
   "metadata": {},
   "outputs": [
    {
     "data": {
      "text/html": [
       "<div>\n",
       "<style scoped>\n",
       "    .dataframe tbody tr th:only-of-type {\n",
       "        vertical-align: middle;\n",
       "    }\n",
       "\n",
       "    .dataframe tbody tr th {\n",
       "        vertical-align: top;\n",
       "    }\n",
       "\n",
       "    .dataframe thead th {\n",
       "        text-align: right;\n",
       "    }\n",
       "</style>\n",
       "<table border=\"1\" class=\"dataframe\">\n",
       "  <thead>\n",
       "    <tr style=\"text-align: right;\">\n",
       "      <th></th>\n",
       "      <th>sex</th>\n",
       "      <th>graduation</th>\n",
       "    </tr>\n",
       "  </thead>\n",
       "  <tbody>\n",
       "    <tr>\n",
       "      <th>sex</th>\n",
       "      <td>1.000000</td>\n",
       "      <td>-0.003153</td>\n",
       "    </tr>\n",
       "    <tr>\n",
       "      <th>graduation</th>\n",
       "      <td>-0.003153</td>\n",
       "      <td>1.000000</td>\n",
       "    </tr>\n",
       "  </tbody>\n",
       "</table>\n",
       "</div>"
      ],
      "text/plain": [
       "                 sex  graduation\n",
       "sex         1.000000   -0.003153\n",
       "graduation -0.003153    1.000000"
      ]
     },
     "execution_count": 57,
     "metadata": {},
     "output_type": "execute_result"
    }
   ],
   "source": [
    "subscribers[['sex', 'graduation']].corr()"
   ]
  },
  {
   "cell_type": "markdown",
   "id": "144467ce",
   "metadata": {},
   "source": [
    "В попытке соотнести даные об образовании и пол, выявилось, что связь между ними отрицательная и близка к нулю, что означает их независимость друг от друга"
   ]
  },
  {
   "cell_type": "code",
   "execution_count": 59,
   "id": "f5119564",
   "metadata": {},
   "outputs": [
    {
     "data": {
      "text/plain": [
       "МГУ                                                                                              1050\n",
       "СПбГУ                                                                                             567\n",
       "УрФУ им. первого Президента России Б. Н. Ельцина                                                  414\n",
       "КПИ им. И. Сикорского                                                                             346\n",
       "БГУ                                                                                               313\n",
       "                                                                                                 ... \n",
       "НИИ СП им. Н. В. Склифосовского                                                                     1\n",
       "АНБ РБ (бывш. ИНБ РБ)                                                                               1\n",
       "Hochschule für Künste Bremen                                                                        1\n",
       "Heinrich-Heine-Universität Düsseldorf                                                               1\n",
       "Emirates Institute for Banking and Financial Studies معهد الامارات للدراسات المصرفية والمالية       1\n",
       "Name: university_name, Length: 5192, dtype: int64"
      ]
     },
     "execution_count": 59,
     "metadata": {},
     "output_type": "execute_result"
    }
   ],
   "source": [
    "subscribers['university_name'].value_counts()"
   ]
  },
  {
   "cell_type": "code",
   "execution_count": 60,
   "id": "152bdb38",
   "metadata": {},
   "outputs": [
    {
     "data": {
      "text/plain": [
       "Экономический                                                                          1871\n",
       "Юридический                                                                            1305\n",
       "Экономики и управления                                                                  495\n",
       "Лечебный                                                                                412\n",
       "Филологический                                                                          386\n",
       "                                                                                       ... \n",
       "предпринимательства и финансов                                                            1\n",
       "Факультет нефтегазохимии и полимерных материалов (Химической технологии полимеров)        1\n",
       "романо-германская филология                                                               1\n",
       "Исторического образования                                                                 1\n",
       "מנהל מערכות בריאות (Health Systems Administration)                                        1\n",
       "Name: faculty_name, Length: 10159, dtype: int64"
      ]
     },
     "execution_count": 60,
     "metadata": {},
     "output_type": "execute_result"
    }
   ],
   "source": [
    "subscribers['faculty_name'].value_counts()"
   ]
  },
  {
   "cell_type": "markdown",
   "id": "e9376f9d",
   "metadata": {},
   "source": [
    "При анализе сфер образования, которое получали подписчики группы можно заметить, что больше всего получали образование в МГУ и СПбгу, также 313 человек, которые указывали на страницах, что обучались в Белорусском государственном университете, что также указывает на то, что группа популярна не только в России. Хоть и связь МегаФона работает только в России"
   ]
  },
  {
   "cell_type": "markdown",
   "id": "90df6a3f",
   "metadata": {},
   "source": [
    "Самый частый факультет - Экономический, возможно в целом это самое популярное образование среди подписчиков. Но в целом темой техники интересуются и юристы, и врачи, и филологи во многом."
   ]
  },
  {
   "cell_type": "code",
   "execution_count": 7,
   "id": "6f55da5e",
   "metadata": {},
   "outputs": [
    {
     "data": {
      "text/html": [
       "<div>\n",
       "<style scoped>\n",
       "    .dataframe tbody tr th:only-of-type {\n",
       "        vertical-align: middle;\n",
       "    }\n",
       "\n",
       "    .dataframe tbody tr th {\n",
       "        vertical-align: top;\n",
       "    }\n",
       "\n",
       "    .dataframe thead th {\n",
       "        text-align: right;\n",
       "    }\n",
       "</style>\n",
       "<table border=\"1\" class=\"dataframe\">\n",
       "  <thead>\n",
       "    <tr style=\"text-align: right;\">\n",
       "      <th></th>\n",
       "      <th>Unnamed: 0</th>\n",
       "      <th>id</th>\n",
       "      <th>city</th>\n",
       "      <th>sex</th>\n",
       "      <th>first_name</th>\n",
       "      <th>last_name</th>\n",
       "      <th>can_access_closed</th>\n",
       "      <th>is_closed</th>\n",
       "      <th>bdate</th>\n",
       "      <th>university</th>\n",
       "      <th>university_name</th>\n",
       "      <th>faculty_name</th>\n",
       "      <th>graduation</th>\n",
       "      <th>education_form</th>\n",
       "      <th>education_status</th>\n",
       "      <th>home_town</th>\n",
       "      <th>deactivated</th>\n",
       "      <th>group</th>\n",
       "    </tr>\n",
       "  </thead>\n",
       "  <tbody>\n",
       "    <tr>\n",
       "      <th>0</th>\n",
       "      <td>0</td>\n",
       "      <td>291</td>\n",
       "      <td>Сертолово</td>\n",
       "      <td>2</td>\n",
       "      <td>Виктор</td>\n",
       "      <td>Танчак</td>\n",
       "      <td>False</td>\n",
       "      <td>True</td>\n",
       "      <td>NaN</td>\n",
       "      <td>NaN</td>\n",
       "      <td>NaN</td>\n",
       "      <td>NaN</td>\n",
       "      <td>NaN</td>\n",
       "      <td>NaN</td>\n",
       "      <td>NaN</td>\n",
       "      <td>NaN</td>\n",
       "      <td>NaN</td>\n",
       "      <td>Фон</td>\n",
       "    </tr>\n",
       "    <tr>\n",
       "      <th>1</th>\n",
       "      <td>1</td>\n",
       "      <td>453</td>\n",
       "      <td>Auckland</td>\n",
       "      <td>1</td>\n",
       "      <td>Ярославна</td>\n",
       "      <td>Гаген-Торн</td>\n",
       "      <td>True</td>\n",
       "      <td>False</td>\n",
       "      <td>8.10.1983</td>\n",
       "      <td>1.0</td>\n",
       "      <td>СПбГУ</td>\n",
       "      <td>Математико-механический</td>\n",
       "      <td>2007.0</td>\n",
       "      <td>Очное отделение</td>\n",
       "      <td>Выпускница (специалист)</td>\n",
       "      <td>Санкт-Петербург</td>\n",
       "      <td>NaN</td>\n",
       "      <td>Фон</td>\n",
       "    </tr>\n",
       "    <tr>\n",
       "      <th>2</th>\n",
       "      <td>2</td>\n",
       "      <td>512</td>\n",
       "      <td>NaN</td>\n",
       "      <td>2</td>\n",
       "      <td>Егор</td>\n",
       "      <td>Деметрадзе</td>\n",
       "      <td>True</td>\n",
       "      <td>False</td>\n",
       "      <td>NaN</td>\n",
       "      <td>0.0</td>\n",
       "      <td>NaN</td>\n",
       "      <td>NaN</td>\n",
       "      <td>0.0</td>\n",
       "      <td>NaN</td>\n",
       "      <td>NaN</td>\n",
       "      <td>Новосибирск</td>\n",
       "      <td>NaN</td>\n",
       "      <td>Фон</td>\n",
       "    </tr>\n",
       "    <tr>\n",
       "      <th>3</th>\n",
       "      <td>3</td>\n",
       "      <td>634</td>\n",
       "      <td>Санкт-Петербург</td>\n",
       "      <td>2</td>\n",
       "      <td>Алексей</td>\n",
       "      <td>Шпаковский</td>\n",
       "      <td>True</td>\n",
       "      <td>False</td>\n",
       "      <td>21.11.1982</td>\n",
       "      <td>65.0</td>\n",
       "      <td>СПбГУТ им. Бонч-Бруевича</td>\n",
       "      <td>Сетей связи, систем коммутации и вычислительно...</td>\n",
       "      <td>0.0</td>\n",
       "      <td>Очное отделение</td>\n",
       "      <td>Выпускник (специалист)</td>\n",
       "      <td>Санкт-Петербург</td>\n",
       "      <td>NaN</td>\n",
       "      <td>Фон</td>\n",
       "    </tr>\n",
       "    <tr>\n",
       "      <th>4</th>\n",
       "      <td>4</td>\n",
       "      <td>762</td>\n",
       "      <td>Санкт-Петербург</td>\n",
       "      <td>2</td>\n",
       "      <td>Константин</td>\n",
       "      <td>Белоус</td>\n",
       "      <td>True</td>\n",
       "      <td>False</td>\n",
       "      <td>NaN</td>\n",
       "      <td>NaN</td>\n",
       "      <td>NaN</td>\n",
       "      <td>NaN</td>\n",
       "      <td>NaN</td>\n",
       "      <td>NaN</td>\n",
       "      <td>NaN</td>\n",
       "      <td>NaN</td>\n",
       "      <td>NaN</td>\n",
       "      <td>Фон</td>\n",
       "    </tr>\n",
       "  </tbody>\n",
       "</table>\n",
       "</div>"
      ],
      "text/plain": [
       "   Unnamed: 0   id             city  sex  first_name   last_name  \\\n",
       "0           0  291        Сертолово    2      Виктор      Танчак   \n",
       "1           1  453         Auckland    1   Ярославна  Гаген-Торн   \n",
       "2           2  512              NaN    2        Егор  Деметрадзе   \n",
       "3           3  634  Санкт-Петербург    2     Алексей  Шпаковский   \n",
       "4           4  762  Санкт-Петербург    2  Константин      Белоус   \n",
       "\n",
       "   can_access_closed  is_closed       bdate  university  \\\n",
       "0              False       True         NaN         NaN   \n",
       "1               True      False   8.10.1983         1.0   \n",
       "2               True      False         NaN         0.0   \n",
       "3               True      False  21.11.1982        65.0   \n",
       "4               True      False         NaN         NaN   \n",
       "\n",
       "            university_name  \\\n",
       "0                       NaN   \n",
       "1                     СПбГУ   \n",
       "2                       NaN   \n",
       "3  СПбГУТ им. Бонч-Бруевича   \n",
       "4                       NaN   \n",
       "\n",
       "                                        faculty_name  graduation  \\\n",
       "0                                                NaN         NaN   \n",
       "1                            Математико-механический      2007.0   \n",
       "2                                                NaN         0.0   \n",
       "3  Сетей связи, систем коммутации и вычислительно...         0.0   \n",
       "4                                                NaN         NaN   \n",
       "\n",
       "    education_form         education_status        home_town deactivated group  \n",
       "0              NaN                      NaN              NaN         NaN   Фон  \n",
       "1  Очное отделение  Выпускница (специалист)  Санкт-Петербург         NaN   Фон  \n",
       "2              NaN                      NaN      Новосибирск         NaN   Фон  \n",
       "3  Очное отделение   Выпускник (специалист)  Санкт-Петербург         NaN   Фон  \n",
       "4              NaN                      NaN              NaN         NaN   Фон  "
      ]
     },
     "execution_count": 7,
     "metadata": {},
     "output_type": "execute_result"
    }
   ],
   "source": [
    "subscribers.drop('faculty', axis=1, inplace=True)\n",
    "subscribers.head()"
   ]
  },
  {
   "cell_type": "markdown",
   "id": "1dfa7883",
   "metadata": {},
   "source": [
    "Я удалила столбец 'faculty', так как данные о приведены в неточном виде, они не дают понять реальный факультет подписчиков"
   ]
  },
  {
   "cell_type": "code",
   "execution_count": 9,
   "id": "501747aa",
   "metadata": {},
   "outputs": [
    {
     "data": {
      "text/plain": [
       "Выпускник (специалист)     7196\n",
       "Студент (специалист)       5798\n",
       "Выпускница (специалист)    5493\n",
       "Студент (бакалавр)         3785\n",
       "Студентка (специалист)     2906\n",
       "Студентка (бакалавр)       1966\n",
       "Выпускник (бакалавр)       1843\n",
       "Выпускник (магистр)        1362\n",
       "Выпускница (бакалавр)      1124\n",
       "Доктор наук                1078\n",
       "Выпускница (магистр)        835\n",
       "Абитуриент                  721\n",
       "Студент (магистр)           719\n",
       "Кандидат наук               462\n",
       "Студентка (магистр)         303\n",
       "Аспирант                    233\n",
       "Абитуриентка                204\n",
       "Аспирантка                   73\n",
       "Клинический ординатор        17\n",
       "Адъюнкт                      15\n",
       "Интерн                       12\n",
       "Докторант                     9\n",
       "Соискатель                    5\n",
       "Ассистент-стажёр              4\n",
       "Исследователь                 3\n",
       "Соискательница                1\n",
       "Name: education_status, dtype: int64"
      ]
     },
     "execution_count": 9,
     "metadata": {},
     "output_type": "execute_result"
    }
   ],
   "source": [
    "subscribers['education_status'].value_counts()"
   ]
  },
  {
   "cell_type": "markdown",
   "id": "a336c720",
   "metadata": {},
   "source": [
    "Большая часть тех подписчиков, которые указали свой статус в образовании являются выпускниками различных вузов, но также около 10 тысяч подписчиков сейчас являются студентами"
   ]
  },
  {
   "cell_type": "markdown",
   "id": "143d3926",
   "metadata": {},
   "source": [
    "Таким образом анализ целевой аудитории в основном проводился через выявление частотности данных по каждому столбцу таблицы, так как именно этот способ дааёт больше всего понять, кто является целевой аудиторией группы \"Фон\". "
   ]
  },
  {
   "cell_type": "markdown",
   "id": "f909ee1c",
   "metadata": {},
   "source": [
    "Теперь, если соединить анализ двух таблиц, то ясно, что подписчикам группы, кокторые по большей части выпустились из университетов, получали разнообразное образование, живут в Москве или Петербурге, а также в других странах около России нравятся быстрые юмористические ролики, которые можно переложить на свою жизнь."
   ]
  },
  {
   "cell_type": "code",
   "execution_count": null,
   "id": "85d302ce",
   "metadata": {},
   "outputs": [],
   "source": []
  }
 ],
 "metadata": {
  "kernelspec": {
   "display_name": "Python 3 (ipykernel)",
   "language": "python",
   "name": "python3"
  },
  "language_info": {
   "codemirror_mode": {
    "name": "ipython",
    "version": 3
   },
   "file_extension": ".py",
   "mimetype": "text/x-python",
   "name": "python",
   "nbconvert_exporter": "python",
   "pygments_lexer": "ipython3",
   "version": "3.10.9"
  }
 },
 "nbformat": 4,
 "nbformat_minor": 5
}
